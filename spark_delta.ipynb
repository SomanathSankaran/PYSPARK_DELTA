{
 "cells": [
  {
   "cell_type": "code",
   "execution_count": 1,
   "metadata": {},
   "outputs": [
    {
     "data": {
      "text/html": [
       "\n",
       "            <div>\n",
       "                <p><b>SparkSession - hive</b></p>\n",
       "                \n",
       "        <div>\n",
       "            <p><b>SparkContext</b></p>\n",
       "\n",
       "            <p><a href=\"http://192.168.43.163:4040\">Spark UI</a></p>\n",
       "\n",
       "            <dl>\n",
       "              <dt>Version</dt>\n",
       "                <dd><code>v2.4.4</code></dd>\n",
       "              <dt>Master</dt>\n",
       "                <dd><code>local[*]</code></dd>\n",
       "              <dt>AppName</dt>\n",
       "                <dd><code>PySparkShell</code></dd>\n",
       "            </dl>\n",
       "        </div>\n",
       "        \n",
       "            </div>\n",
       "        "
      ],
      "text/plain": [
       "<pyspark.sql.session.SparkSession at 0x7febb6f139d0>"
      ]
     },
     "execution_count": 1,
     "metadata": {},
     "output_type": "execute_result"
    }
   ],
   "source": [
    "spark"
   ]
  },
  {
   "cell_type": "code",
   "execution_count": 2,
   "metadata": {
    "collapsed": true
   },
   "outputs": [],
   "source": [
    "data=!echo $SPARK_HOME/examples/src/main/resources/employees.json"
   ]
  },
  {
   "cell_type": "code",
   "execution_count": 3,
   "metadata": {
    "collapsed": true
   },
   "outputs": [],
   "source": [
    "ipt_json=spark.read.format(\"json\").load(data[0])"
   ]
  },
  {
   "cell_type": "code",
   "execution_count": 4,
   "metadata": {},
   "outputs": [
    {
     "name": "stdout",
     "output_type": "stream",
     "text": [
      "+-------+------+\n",
      "|   name|salary|\n",
      "+-------+------+\n",
      "|Michael|  3000|\n",
      "|   Andy|  4500|\n",
      "| Justin|  3500|\n",
      "|  Berta|  4000|\n",
      "+-------+------+\n",
      "\n"
     ]
    }
   ],
   "source": [
    "ipt_json.show()"
   ]
  },
  {
   "cell_type": "code",
   "execution_count": 12,
   "metadata": {
    "collapsed": true
   },
   "outputs": [],
   "source": [
    "#writing to delta"
   ]
  },
  {
   "cell_type": "code",
   "execution_count": 5,
   "metadata": {
    "collapsed": true
   },
   "outputs": [],
   "source": [
    "ipt_json.write.format(\"delta\").save(\"/home/somanath/delata_opt\")"
   ]
  },
  {
   "cell_type": "code",
   "execution_count": 13,
   "metadata": {
    "collapsed": true
   },
   "outputs": [],
   "source": [
    "#fetching data plan\n"
   ]
  },
  {
   "cell_type": "code",
   "execution_count": 5,
   "metadata": {
    "collapsed": true
   },
   "outputs": [],
   "source": [
    "delta_read=spark.read.format(\"delta\").load(\"/home/somanath/delata_opt\")"
   ]
  },
  {
   "cell_type": "code",
   "execution_count": 6,
   "metadata": {},
   "outputs": [
    {
     "data": {
      "text/plain": [
       "4"
      ]
     },
     "execution_count": 6,
     "metadata": {},
     "output_type": "execute_result"
    }
   ],
   "source": [
    "delta_read.count()"
   ]
  },
  {
   "cell_type": "code",
   "execution_count": 20,
   "metadata": {
    "collapsed": true
   },
   "outputs": [],
   "source": [
    "spark.sql(\"set -v\").toPandas().to_csv(\"spark_2.4_propertis.csv\")"
   ]
  },
  {
   "cell_type": "code",
   "execution_count": 22,
   "metadata": {},
   "outputs": [
    {
     "data": {
      "text/plain": [
       "1"
      ]
     },
     "execution_count": 22,
     "metadata": {},
     "output_type": "execute_result"
    }
   ],
   "source": [
    "delta_read.rdd.getNumPartitions()"
   ]
  },
  {
   "cell_type": "markdown",
   "metadata": {
    "collapsed": true
   },
   "source": [
    "# ensure durability will not allow schema change"
   ]
  },
  {
   "cell_type": "code",
   "execution_count": 25,
   "metadata": {
    "collapsed": true
   },
   "outputs": [],
   "source": [
    "delta_read=delta_read.withColumn(\"test_col\",delta_read.salary*2)"
   ]
  },
  {
   "cell_type": "code",
   "execution_count": 43,
   "metadata": {},
   "outputs": [
    {
     "name": "stdout",
     "output_type": "stream",
     "text": [
      "u'A schema mismatch detected when writing to the Delta table.\\nTo enable schema migration, please set:\\n\\'.option(\"mergeSchema\", \"true\")\\'.\\n\\nTable schema:\\nroot\\n-- name: string (nullable = true)\\n-- salary: long (nullable = true)\\n\\n\\nData schema:\\nroot\\n-- name: string (nullable = true)\\n-- salary: long (nullable = true)\\n-- test_col: long (nullable = true)\\n\\n         \\nIf Table ACLs are enabled, these options will be ignored. Please use the ALTER TABLE\\ncommand for changing the schema.\\n        ;'\n"
     ]
    }
   ],
   "source": [
    "#catching exception\n",
    "try :\n",
    "    delta_read.write.format(\"delta\").mode(\"append\").save(\"/home/somanath/delata_opt\")\n",
    "except Exception as e:\n",
    "    print(str(e))"
   ]
  },
  {
   "cell_type": "markdown",
   "metadata": {},
   "source": [
    "\n",
    "# maintaining history with spark delta"
   ]
  },
  {
   "cell_type": "code",
   "execution_count": 10,
   "metadata": {},
   "outputs": [],
   "source": [
    "delta_read=delta_read.selectExpr(\"*\",\"salary+2000 as salary_new\").drop(\"salary\").selectExpr(\"name\",\"salary_new as salary\")"
   ]
  },
  {
   "cell_type": "code",
   "execution_count": 11,
   "metadata": {
    "collapsed": true
   },
   "outputs": [],
   "source": [
    "delta_read.write.format(\"delta\").mode(\"append\").save(\"/home/somanath/delata_opt\")"
   ]
  },
  {
   "cell_type": "markdown",
   "metadata": {},
   "source": [
    "## reading current version"
   ]
  },
  {
   "cell_type": "code",
   "execution_count": 12,
   "metadata": {
    "collapsed": true
   },
   "outputs": [],
   "source": [
    "delta_read_new=spark.read.format(\"delta\").load(\"/home/somanath/delata_opt\")"
   ]
  },
  {
   "cell_type": "code",
   "execution_count": 13,
   "metadata": {},
   "outputs": [
    {
     "name": "stdout",
     "output_type": "stream",
     "text": [
      "+-------+------+\n",
      "|   name|salary|\n",
      "+-------+------+\n",
      "|Michael|  5000|\n",
      "|   Andy|  6500|\n",
      "| Justin|  5500|\n",
      "|  Berta|  6000|\n",
      "|Michael|  3000|\n",
      "|   Andy|  4500|\n",
      "| Justin|  3500|\n",
      "|  Berta|  4000|\n",
      "+-------+------+\n",
      "\n"
     ]
    }
   ],
   "source": [
    "delta_read_new.show()"
   ]
  },
  {
   "cell_type": "markdown",
   "metadata": {},
   "source": [
    "## reading old version"
   ]
  },
  {
   "cell_type": "code",
   "execution_count": 28,
   "metadata": {},
   "outputs": [
    {
     "name": "stdout",
     "output_type": "stream",
     "text": [
      "total 8\r\n",
      "-rw-r--r-- 1 somanath somanath 308 Sep 28 11:27 00000000000000000001.json\r\n",
      "-rw-r--r-- 1 somanath somanath 729 Sep 28 08:07 00000000000000000000.json\r\n"
     ]
    }
   ],
   "source": [
    "#getting version no from json\n",
    "!ls -lt /home/somanath/delata_opt/_delta_log/"
   ]
  },
  {
   "cell_type": "code",
   "execution_count": 34,
   "metadata": {},
   "outputs": [
    {
     "name": "stdout",
     "output_type": "stream",
     "text": [
      "{\"commitInfo\":{\"timestamp\":1569650235323,\"operation\":\"WRITE\",\"operationParameters\":{\"mode\":\"Append\",\"partitionBy\":\"[]\"},\"readVersion\":0}}\r\n",
      "{\"add\":{\"path\":\"part-00000-f5772fc5-946d-48fe-98b9-81e094154fa6-c000.snappy.parquet\",\"partitionValues\":{},\"size\":683,\"modificationTime\":1569650235000,\"dataChange\":true}}\r\n"
     ]
    }
   ],
   "source": [
    "cat /home/somanath/delata_opt/_delta_log/00000000000000000001.json"
   ]
  },
  {
   "cell_type": "code",
   "execution_count": 25,
   "metadata": {
    "collapsed": true
   },
   "outputs": [],
   "source": [
    "delta_read_old=spark.read.format(\"delta\").option(\"versionAsOf\",\"0\").load(\"/home/somanath/delata_opt\")"
   ]
  },
  {
   "cell_type": "code",
   "execution_count": 26,
   "metadata": {},
   "outputs": [
    {
     "name": "stdout",
     "output_type": "stream",
     "text": [
      "+-------+------+\n",
      "|   name|salary|\n",
      "+-------+------+\n",
      "|Michael|  3000|\n",
      "|   Andy|  4500|\n",
      "| Justin|  3500|\n",
      "|  Berta|  4000|\n",
      "+-------+------+\n",
      "\n"
     ]
    }
   ],
   "source": [
    "delta_read_old.show()"
   ]
  },
  {
   "cell_type": "markdown",
   "metadata": {},
   "source": [
    "# checking history and schema  with  overwrite mode"
   ]
  },
  {
   "cell_type": "code",
   "execution_count": 30,
   "metadata": {},
   "outputs": [
    {
     "name": "stdout",
     "output_type": "stream",
     "text": [
      "u'A schema mismatch detected when writing to the Delta table.\\nTo enable schema migration, please set:\\n\\'.option(\"mergeSchema\", \"true\")\\'.\\n\\nTable schema:\\nroot\\n-- name: string (nullable = true)\\n-- salary: long (nullable = true)\\n\\n\\nData schema:\\nroot\\n-- name: string (nullable = true)\\n-- salary: long (nullable = true)\\n-- test_col: long (nullable = true)\\n\\n         \\nTo overwrite your schema or change partitioning, please set:\\n\\'.option(\"overwriteSchema\", \"true\")\\'.\\n\\nNote that the schema can\\'t be overwritten when using\\n\\'replaceWhere\\'.\\n         \\nIf Table ACLs are enabled, these options will be ignored. Please use the ALTER TABLE\\ncommand for changing the schema.\\n        ;'\n"
     ]
    }
   ],
   "source": [
    "delta_read=delta_read.withColumn(\"test_col\",delta_read.salary*2)\n",
    "try :\n",
    "    delta_read.write.format(\"delta\").mode(\"overwrite\").save(\"/home/somanath/delata_opt\")\n",
    "except Exception as e:\n",
    "    print(str(e))"
   ]
  },
  {
   "cell_type": "code",
   "execution_count": 31,
   "metadata": {
    "collapsed": true
   },
   "outputs": [],
   "source": [
    "delta_read=delta_read.selectExpr(\"*\",\"salary+2000 as salary_new\").drop(\"salary\").selectExpr(\"name\",\"salary_new as salary\")\n",
    "delta_read.write.format(\"delta\").mode(\"overwrite\").save(\"/home/somanath/delata_opt\")"
   ]
  },
  {
   "cell_type": "code",
   "execution_count": 32,
   "metadata": {},
   "outputs": [
    {
     "name": "stdout",
     "output_type": "stream",
     "text": [
      "+-------+------+\n",
      "|   name|salary|\n",
      "+-------+------+\n",
      "|Michael| 13000|\n",
      "|   Andy| 14500|\n",
      "| Justin| 13500|\n",
      "|  Berta| 14000|\n",
      "|Michael| 11000|\n",
      "|   Andy| 12500|\n",
      "| Justin| 11500|\n",
      "|  Berta| 12000|\n",
      "+-------+------+\n",
      "\n"
     ]
    }
   ],
   "source": [
    "delta_read.show()"
   ]
  },
  {
   "cell_type": "markdown",
   "metadata": {},
   "source": [
    "## reading earlier version data"
   ]
  },
  {
   "cell_type": "code",
   "execution_count": 35,
   "metadata": {},
   "outputs": [
    {
     "name": "stdout",
     "output_type": "stream",
     "text": [
      "total 12\r\n",
      "-rw-r--r-- 1 somanath somanath 765 Sep 28 11:38 00000000000000000002.json\r\n",
      "-rw-r--r-- 1 somanath somanath 308 Sep 28 11:27 00000000000000000001.json\r\n",
      "-rw-r--r-- 1 somanath somanath 729 Sep 28 08:07 00000000000000000000.json\r\n"
     ]
    }
   ],
   "source": [
    "#getting version no from json\n",
    "!ls -lt /home/somanath/delata_opt/_delta_log/"
   ]
  },
  {
   "cell_type": "code",
   "execution_count": 37,
   "metadata": {},
   "outputs": [
    {
     "name": "stdout",
     "output_type": "stream",
     "text": [
      "{\"commitInfo\":{\"timestamp\":1569650896977,\"operation\":\"WRITE\",\"operationParameters\":{\"mode\":\"Overwrite\",\"partitionBy\":\"[]\"},\"readVersion\":1}}\r\n",
      "{\"add\":{\"path\":\"part-00000-2affc6fc-934b-4e68-8fea-a8024fc9bad0-c000.snappy.parquet\",\"partitionValues\":{},\"size\":683,\"modificationTime\":1569650896000,\"dataChange\":true}}\r\n",
      "{\"add\":{\"path\":\"part-00001-3e594723-4254-441a-8b25-43e7619b681b-c000.snappy.parquet\",\"partitionValues\":{},\"size\":683,\"modificationTime\":1569650896000,\"dataChange\":true}}\r\n",
      "{\"remove\":{\"path\":\"part-00000-f5772fc5-946d-48fe-98b9-81e094154fa6-c000.snappy.parquet\",\"deletionTimestamp\":1569650896976,\"dataChange\":true}}\r\n",
      "{\"remove\":{\"path\":\"part-00000-ab96a785-1efc-407a-8f8f-38a59cbde32c-c000.snappy.parquet\",\"deletionTimestamp\":1569650896977,\"dataChange\":true}}\r\n"
     ]
    }
   ],
   "source": [
    "\n",
    "!cat  /home/somanath/delata_opt/_delta_log/00000000000000000002.json"
   ]
  },
  {
   "cell_type": "code",
   "execution_count": 40,
   "metadata": {},
   "outputs": [
    {
     "name": "stdout",
     "output_type": "stream",
     "text": [
      "{\"commitInfo\":{\"timestamp\":1569650235323,\"operation\":\"WRITE\",\"operationParameters\":{\"mode\":\"Append\",\"partitionBy\":\"[]\"},\"readVersion\":0}}\r\n",
      "{\"add\":{\"path\":\"part-00000-f5772fc5-946d-48fe-98b9-81e094154fa6-c000.snappy.parquet\",\"partitionValues\":{},\"size\":683,\"modificationTime\":1569650235000,\"dataChange\":true}}\r\n"
     ]
    }
   ],
   "source": [
    "!cat  /home/somanath/delata_opt/_delta_log/00000000000000000001.json"
   ]
  },
  {
   "cell_type": "code",
   "execution_count": 41,
   "metadata": {},
   "outputs": [
    {
     "name": "stdout",
     "output_type": "stream",
     "text": [
      "{\"commitInfo\":{\"timestamp\":1569638251431,\"operation\":\"WRITE\",\"operationParameters\":{\"mode\":\"ErrorIfExists\",\"partitionBy\":\"[]\"}}}\r\n",
      "{\"protocol\":{\"minReaderVersion\":1,\"minWriterVersion\":2}}\r\n",
      "{\"metaData\":{\"id\":\"097a59ca-cd52-47c3-b4bc-2798afca43b6\",\"format\":{\"provider\":\"parquet\",\"options\":{}},\"schemaString\":\"{\\\"type\\\":\\\"struct\\\",\\\"fields\\\":[{\\\"name\\\":\\\"name\\\",\\\"type\\\":\\\"string\\\",\\\"nullable\\\":true,\\\"metadata\\\":{}},{\\\"name\\\":\\\"salary\\\",\\\"type\\\":\\\"long\\\",\\\"nullable\\\":true,\\\"metadata\\\":{}}]}\",\"partitionColumns\":[],\"configuration\":{},\"createdTime\":1569638246364}}\r\n",
      "{\"add\":{\"path\":\"part-00000-ab96a785-1efc-407a-8f8f-38a59cbde32c-c000.snappy.parquet\",\"partitionValues\":{},\"size\":683,\"modificationTime\":1569638251000,\"dataChange\":true}}\r\n"
     ]
    }
   ],
   "source": [
    "!cat  /home/somanath/delata_opt/_delta_log/00000000000000000000.json"
   ]
  },
  {
   "cell_type": "code",
   "execution_count": 43,
   "metadata": {},
   "outputs": [
    {
     "name": "stdout",
     "output_type": "stream",
     "text": [
      "+-------+------+\n",
      "|   name|salary|\n",
      "+-------+------+\n",
      "|Michael|  9000|\n",
      "|   Andy| 10500|\n",
      "| Justin|  9500|\n",
      "|  Berta| 10000|\n",
      "|Michael|  7000|\n",
      "|   Andy|  8500|\n",
      "| Justin|  7500|\n",
      "|  Berta|  8000|\n",
      "+-------+------+\n",
      "\n"
     ]
    }
   ],
   "source": [
    "#matches the opt with cell 32\n",
    "delta_read_new=spark.read.format(\"delta\").load(\"/home/somanath/delata_opt\")\n",
    "delta_read_new.show()"
   ]
  },
  {
   "cell_type": "code",
   "execution_count": 45,
   "metadata": {},
   "outputs": [
    {
     "name": "stdout",
     "output_type": "stream",
     "text": [
      "+-------+------+\n",
      "|   name|salary|\n",
      "+-------+------+\n",
      "|Michael|  3000|\n",
      "|   Andy|  4500|\n",
      "| Justin|  3500|\n",
      "|  Berta|  4000|\n",
      "+-------+------+\n",
      "\n"
     ]
    }
   ],
   "source": [
    "delta_read_old=spark.read.format(\"delta\").option(\"versionAsOf\",\"0\").load(\"/home/somanath/delata_opt\")\n",
    "delta_read_old.show()"
   ]
  },
  {
   "cell_type": "code",
   "execution_count": 47,
   "metadata": {},
   "outputs": [
    {
     "name": "stdout",
     "output_type": "stream",
     "text": [
      "+-------+------+\n",
      "|   name|salary|\n",
      "+-------+------+\n",
      "|Michael|  3000|\n",
      "|   Andy|  4500|\n",
      "| Justin|  3500|\n",
      "|  Berta|  4000|\n",
      "+-------+------+\n",
      "\n"
     ]
    }
   ],
   "source": [
    "delta_read_old=spark.read.format(\"delta\").option(\"timestampAsOf\",\"2019-09-28 08:30:00.000\").load(\"/home/somanath/delata_opt\")\n",
    "delta_read_old.show()"
   ]
  },
  {
   "cell_type": "code",
   "execution_count": 48,
   "metadata": {
    "collapsed": true
   },
   "outputs": [],
   "source": [
    "##merge operations will be done using scala api"
   ]
  },
  {
   "cell_type": "code",
   "execution_count": null,
   "metadata": {
    "collapsed": true
   },
   "outputs": [],
   "source": []
  }
 ],
 "metadata": {
  "kernelspec": {
   "display_name": "Python 2",
   "language": "python",
   "name": "python2"
  },
  "language_info": {
   "codemirror_mode": {
    "name": "ipython",
    "version": 2
   },
   "file_extension": ".py",
   "mimetype": "text/x-python",
   "name": "python",
   "nbconvert_exporter": "python",
   "pygments_lexer": "ipython2",
   "version": "2.7.16"
  }
 },
 "nbformat": 4,
 "nbformat_minor": 2
}
